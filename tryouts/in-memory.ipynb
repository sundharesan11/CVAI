{
 "cells": [
  {
   "cell_type": "code",
   "execution_count": 1,
   "metadata": {},
   "outputs": [],
   "source": [
    "import pandas as pd"
   ]
  },
  {
   "cell_type": "code",
   "execution_count": 37,
   "metadata": {},
   "outputs": [
    {
     "data": {
      "text/html": [
       "<div>\n",
       "<style scoped>\n",
       "    .dataframe tbody tr th:only-of-type {\n",
       "        vertical-align: middle;\n",
       "    }\n",
       "\n",
       "    .dataframe tbody tr th {\n",
       "        vertical-align: top;\n",
       "    }\n",
       "\n",
       "    .dataframe thead th {\n",
       "        text-align: right;\n",
       "    }\n",
       "</style>\n",
       "<table border=\"1\" class=\"dataframe\">\n",
       "  <thead>\n",
       "    <tr style=\"text-align: right;\">\n",
       "      <th></th>\n",
       "      <th>Category</th>\n",
       "      <th>Resume</th>\n",
       "    </tr>\n",
       "  </thead>\n",
       "  <tbody>\n",
       "    <tr>\n",
       "      <th>0</th>\n",
       "      <td>Data Science</td>\n",
       "      <td>Skills * Programming Languages: Python (pandas...</td>\n",
       "    </tr>\n",
       "    <tr>\n",
       "      <th>1</th>\n",
       "      <td>Data Science</td>\n",
       "      <td>Education Details \\r\\nMay 2013 to May 2017 B.E...</td>\n",
       "    </tr>\n",
       "    <tr>\n",
       "      <th>2</th>\n",
       "      <td>Data Science</td>\n",
       "      <td>Areas of Interest Deep Learning, Control Syste...</td>\n",
       "    </tr>\n",
       "    <tr>\n",
       "      <th>3</th>\n",
       "      <td>Data Science</td>\n",
       "      <td>Skills â¢ R â¢ Python â¢ SAP HANA â¢ Table...</td>\n",
       "    </tr>\n",
       "    <tr>\n",
       "      <th>4</th>\n",
       "      <td>Data Science</td>\n",
       "      <td>Education Details \\r\\n MCA   YMCAUST,  Faridab...</td>\n",
       "    </tr>\n",
       "  </tbody>\n",
       "</table>\n",
       "</div>"
      ],
      "text/plain": [
       "       Category                                             Resume\n",
       "0  Data Science  Skills * Programming Languages: Python (pandas...\n",
       "1  Data Science  Education Details \\r\\nMay 2013 to May 2017 B.E...\n",
       "2  Data Science  Areas of Interest Deep Learning, Control Syste...\n",
       "3  Data Science  Skills â¢ R â¢ Python â¢ SAP HANA â¢ Table...\n",
       "4  Data Science  Education Details \\r\\n MCA   YMCAUST,  Faridab..."
      ]
     },
     "execution_count": 37,
     "metadata": {},
     "output_type": "execute_result"
    }
   ],
   "source": [
    "df = pd.read_csv(r\"C:\\Users\\Sundharesan.sk\\Desktop\\CVM\\data\\resume.csv\")\n",
    "df.head()"
   ]
  },
  {
   "cell_type": "code",
   "execution_count": 40,
   "metadata": {},
   "outputs": [
    {
     "data": {
      "text/plain": [
       "166"
      ]
     },
     "execution_count": 40,
     "metadata": {},
     "output_type": "execute_result"
    }
   ],
   "source": [
    "len(df) - sum(df.duplicated())"
   ]
  },
  {
   "cell_type": "code",
   "execution_count": 41,
   "metadata": {},
   "outputs": [],
   "source": [
    "df.drop_duplicates(inplace=True)"
   ]
  },
  {
   "cell_type": "code",
   "execution_count": 7,
   "metadata": {},
   "outputs": [],
   "source": [
    "import spacy\n",
    "import re\n",
    "nlp = spacy.load('en_core_web_sm')\n",
    "\n",
    "def preprocess(text):\n",
    "    text = re.sub(r'[^\\w\\s]', '', text) \n",
    "    doc = nlp(str(text))\n",
    "    preprocessed_text = []\n",
    "    for token in doc:\n",
    "        if token.is_punct or token.like_num or token.is_space:\n",
    "            continue\n",
    "        preprocessed_text.append(token.lemma_.lower().strip())\n",
    "    return ' '.join(preprocessed_text)"
   ]
  },
  {
   "cell_type": "code",
   "execution_count": 8,
   "metadata": {},
   "outputs": [],
   "source": [
    "df['Processed'] = df['Resume'].apply(preprocess)"
   ]
  },
  {
   "cell_type": "code",
   "execution_count": 9,
   "metadata": {},
   "outputs": [
    {
     "data": {
      "text/html": [
       "<div>\n",
       "<style scoped>\n",
       "    .dataframe tbody tr th:only-of-type {\n",
       "        vertical-align: middle;\n",
       "    }\n",
       "\n",
       "    .dataframe tbody tr th {\n",
       "        vertical-align: top;\n",
       "    }\n",
       "\n",
       "    .dataframe thead th {\n",
       "        text-align: right;\n",
       "    }\n",
       "</style>\n",
       "<table border=\"1\" class=\"dataframe\">\n",
       "  <thead>\n",
       "    <tr style=\"text-align: right;\">\n",
       "      <th></th>\n",
       "      <th>Category</th>\n",
       "      <th>Resume</th>\n",
       "      <th>Processed</th>\n",
       "    </tr>\n",
       "  </thead>\n",
       "  <tbody>\n",
       "    <tr>\n",
       "      <th>0</th>\n",
       "      <td>Data Science</td>\n",
       "      <td>Skills * Programming Languages: Python (pandas...</td>\n",
       "      <td>skill programming languages python panda numpy...</td>\n",
       "    </tr>\n",
       "    <tr>\n",
       "      <th>1</th>\n",
       "      <td>Data Science</td>\n",
       "      <td>Education Details \\r\\nMay 2013 to May 2017 B.E...</td>\n",
       "      <td>education details may to may be uitrgpv data s...</td>\n",
       "    </tr>\n",
       "    <tr>\n",
       "      <th>2</th>\n",
       "      <td>Data Science</td>\n",
       "      <td>Areas of Interest Deep Learning, Control Syste...</td>\n",
       "      <td>area of interest deep learning control system ...</td>\n",
       "    </tr>\n",
       "    <tr>\n",
       "      <th>3</th>\n",
       "      <td>Data Science</td>\n",
       "      <td>Skills â¢ R â¢ Python â¢ SAP HANA â¢ Table...</td>\n",
       "      <td>skill â r â python â sap hana â tableau â sap ...</td>\n",
       "    </tr>\n",
       "    <tr>\n",
       "      <th>4</th>\n",
       "      <td>Data Science</td>\n",
       "      <td>Education Details \\r\\n MCA   YMCAUST,  Faridab...</td>\n",
       "      <td>education details mca ymcaust faridabad haryan...</td>\n",
       "    </tr>\n",
       "  </tbody>\n",
       "</table>\n",
       "</div>"
      ],
      "text/plain": [
       "       Category                                             Resume  \\\n",
       "0  Data Science  Skills * Programming Languages: Python (pandas...   \n",
       "1  Data Science  Education Details \\r\\nMay 2013 to May 2017 B.E...   \n",
       "2  Data Science  Areas of Interest Deep Learning, Control Syste...   \n",
       "3  Data Science  Skills â¢ R â¢ Python â¢ SAP HANA â¢ Table...   \n",
       "4  Data Science  Education Details \\r\\n MCA   YMCAUST,  Faridab...   \n",
       "\n",
       "                                           Processed  \n",
       "0  skill programming languages python panda numpy...  \n",
       "1  education details may to may be uitrgpv data s...  \n",
       "2  area of interest deep learning control system ...  \n",
       "3  skill â r â python â sap hana â tableau â sap ...  \n",
       "4  education details mca ymcaust faridabad haryan...  "
      ]
     },
     "execution_count": 9,
     "metadata": {},
     "output_type": "execute_result"
    }
   ],
   "source": [
    "df.head()"
   ]
  },
  {
   "cell_type": "code",
   "execution_count": 10,
   "metadata": {},
   "outputs": [
    {
     "name": "stderr",
     "output_type": "stream",
     "text": [
      "c:\\Users\\Sundharesan.sk\\Desktop\\CVM\\venv\\Lib\\site-packages\\sentence_transformers\\cross_encoder\\CrossEncoder.py:11: TqdmWarning: IProgress not found. Please update jupyter and ipywidgets. See https://ipywidgets.readthedocs.io/en/stable/user_install.html\n",
      "  from tqdm.autonotebook import tqdm, trange\n",
      "c:\\Users\\Sundharesan.sk\\Desktop\\CVM\\venv\\Lib\\site-packages\\huggingface_hub\\file_download.py:159: UserWarning: `huggingface_hub` cache-system uses symlinks by default to efficiently store duplicated files but your machine does not support them in C:\\Users\\Sundharesan.sk\\.cache\\huggingface\\hub\\models--sentence-transformers--all-MiniLM-L6-v2. Caching files will still work but in a degraded version that might require more space on your disk. This warning can be disabled by setting the `HF_HUB_DISABLE_SYMLINKS_WARNING` environment variable. For more details, see https://huggingface.co/docs/huggingface_hub/how-to-cache#limitations.\n",
      "To support symlinks on Windows, you either need to activate Developer Mode or to run Python as an administrator. In order to see activate developer mode, see this article: https://docs.microsoft.com/en-us/windows/apps/get-started/enable-your-device-for-development\n",
      "  warnings.warn(message)\n",
      "c:\\Users\\Sundharesan.sk\\Desktop\\CVM\\venv\\Lib\\site-packages\\transformers\\tokenization_utils_base.py:1601: FutureWarning: `clean_up_tokenization_spaces` was not set. It will be set to `True` by default. This behavior will be depracted in transformers v4.45, and will be then set to `False` by default. For more details check this issue: https://github.com/huggingface/transformers/issues/31884\n",
      "  warnings.warn(\n"
     ]
    }
   ],
   "source": [
    "from sentence_transformers import SentenceTransformer\n",
    "encoder = SentenceTransformer('all-MiniLM-L6-v2')\n",
    "\n",
    "df['Embedding'] = df['Processed'].apply(encoder.encode)\n",
    "\n",
    "vectors = encoder.encode(df['Processed'])"
   ]
  },
  {
   "cell_type": "code",
   "execution_count": 16,
   "metadata": {},
   "outputs": [],
   "source": [
    "import faiss\n",
    "\n",
    "vector_dimension = vectors.shape[1]\n",
    "index = faiss.IndexFlatL2(vector_dimension)"
   ]
  },
  {
   "cell_type": "code",
   "execution_count": 17,
   "metadata": {},
   "outputs": [],
   "source": [
    "faiss.normalize_L2(vectors)\n",
    "index.add(vectors)"
   ]
  },
  {
   "cell_type": "code",
   "execution_count": 18,
   "metadata": {},
   "outputs": [],
   "source": [
    "import numpy as np\n",
    "\n",
    "search_text = 'Give the top 10 resumes for the python developer'\n",
    "search_vector = encoder.encode(search_text)\n",
    "_vector = np.array([search_vector])\n",
    "faiss.normalize_L2(_vector)"
   ]
  },
  {
   "cell_type": "code",
   "execution_count": 19,
   "metadata": {},
   "outputs": [],
   "source": [
    "k = index.ntotal\n",
    "distances, ann = index.search(_vector, k=15)"
   ]
  },
  {
   "cell_type": "code",
   "execution_count": 20,
   "metadata": {},
   "outputs": [
    {
     "data": {
      "text/html": [
       "<div>\n",
       "<style scoped>\n",
       "    .dataframe tbody tr th:only-of-type {\n",
       "        vertical-align: middle;\n",
       "    }\n",
       "\n",
       "    .dataframe tbody tr th {\n",
       "        vertical-align: top;\n",
       "    }\n",
       "\n",
       "    .dataframe thead th {\n",
       "        text-align: right;\n",
       "    }\n",
       "</style>\n",
       "<table border=\"1\" class=\"dataframe\">\n",
       "  <thead>\n",
       "    <tr style=\"text-align: right;\">\n",
       "      <th></th>\n",
       "      <th>distances</th>\n",
       "      <th>ann</th>\n",
       "    </tr>\n",
       "  </thead>\n",
       "  <tbody>\n",
       "    <tr>\n",
       "      <th>0</th>\n",
       "      <td>0.968674</td>\n",
       "      <td>552</td>\n",
       "    </tr>\n",
       "    <tr>\n",
       "      <th>1</th>\n",
       "      <td>0.968674</td>\n",
       "      <td>558</td>\n",
       "    </tr>\n",
       "    <tr>\n",
       "      <th>2</th>\n",
       "      <td>0.968674</td>\n",
       "      <td>564</td>\n",
       "    </tr>\n",
       "    <tr>\n",
       "      <th>3</th>\n",
       "      <td>0.968674</td>\n",
       "      <td>570</td>\n",
       "    </tr>\n",
       "    <tr>\n",
       "      <th>4</th>\n",
       "      <td>0.968674</td>\n",
       "      <td>576</td>\n",
       "    </tr>\n",
       "    <tr>\n",
       "      <th>...</th>\n",
       "      <td>...</td>\n",
       "      <td>...</td>\n",
       "    </tr>\n",
       "    <tr>\n",
       "      <th>957</th>\n",
       "      <td>1.980501</td>\n",
       "      <td>270</td>\n",
       "    </tr>\n",
       "    <tr>\n",
       "      <th>958</th>\n",
       "      <td>1.980501</td>\n",
       "      <td>276</td>\n",
       "    </tr>\n",
       "    <tr>\n",
       "      <th>959</th>\n",
       "      <td>1.980501</td>\n",
       "      <td>282</td>\n",
       "    </tr>\n",
       "    <tr>\n",
       "      <th>960</th>\n",
       "      <td>1.980501</td>\n",
       "      <td>288</td>\n",
       "    </tr>\n",
       "    <tr>\n",
       "      <th>961</th>\n",
       "      <td>1.980501</td>\n",
       "      <td>294</td>\n",
       "    </tr>\n",
       "  </tbody>\n",
       "</table>\n",
       "<p>962 rows × 2 columns</p>\n",
       "</div>"
      ],
      "text/plain": [
       "     distances  ann\n",
       "0     0.968674  552\n",
       "1     0.968674  558\n",
       "2     0.968674  564\n",
       "3     0.968674  570\n",
       "4     0.968674  576\n",
       "..         ...  ...\n",
       "957   1.980501  270\n",
       "958   1.980501  276\n",
       "959   1.980501  282\n",
       "960   1.980501  288\n",
       "961   1.980501  294\n",
       "\n",
       "[962 rows x 2 columns]"
      ]
     },
     "execution_count": 20,
     "metadata": {},
     "output_type": "execute_result"
    }
   ],
   "source": [
    "results = pd.DataFrame({'distances': distances[0], 'ann': ann[0]})\n",
    "results"
   ]
  },
  {
   "cell_type": "markdown",
   "metadata": {},
   "source": []
  },
  {
   "cell_type": "code",
   "execution_count": 42,
   "metadata": {},
   "outputs": [],
   "source": [
    "import re\n",
    "\n",
    "def preprocess_text(text):\n",
    "    text = re.sub(r'[^\\w\\s]', '', text)  \n",
    "    text = text.lower()\n",
    "    return text"
   ]
  },
  {
   "cell_type": "code",
   "execution_count": 43,
   "metadata": {},
   "outputs": [
    {
     "name": "stderr",
     "output_type": "stream",
     "text": [
      "c:\\Users\\Sundharesan.sk\\Desktop\\CVM\\venv\\Lib\\site-packages\\transformers\\tokenization_utils_base.py:1601: FutureWarning: `clean_up_tokenization_spaces` was not set. It will be set to `True` by default. This behavior will be depracted in transformers v4.45, and will be then set to `False` by default. For more details check this issue: https://github.com/huggingface/transformers/issues/31884\n",
      "  warnings.warn(\n"
     ]
    }
   ],
   "source": [
    "from sentence_transformers import SentenceTransformer\n",
    "\n",
    "model = SentenceTransformer('all-MiniLM-L6-v2')\n",
    "\n",
    "def generate_embedding(text):\n",
    "    return model.encode(text)"
   ]
  },
  {
   "cell_type": "code",
   "execution_count": 44,
   "metadata": {},
   "outputs": [],
   "source": [
    "from sklearn.metrics.pairwise import cosine_similarity\n",
    "\n",
    "def calculate_similarity(job_description_embedding, resume_embeddings):\n",
    "    return cosine_similarity([job_description_embedding], resume_embeddings)[0]"
   ]
  },
  {
   "cell_type": "code",
   "execution_count": 45,
   "metadata": {},
   "outputs": [],
   "source": [
    "def rank_resumes(resumes, scores):\n",
    "    ranked_resumes = sorted(zip(resumes, scores), key=lambda x: x[1], reverse=True)\n",
    "    return ranked_resumes"
   ]
  },
  {
   "cell_type": "code",
   "execution_count": 46,
   "metadata": {},
   "outputs": [],
   "source": [
    "def get_top_n_resumes(ranked_resumes, n=10):\n",
    "    return ranked_resumes[:n]"
   ]
  },
  {
   "cell_type": "code",
   "execution_count": 51,
   "metadata": {},
   "outputs": [],
   "source": [
    "preprocessed_resumes = df['Resume'].apply(preprocess_text)\n",
    "resume_embeddings = preprocessed_resumes.apply(generate_embedding).tolist()"
   ]
  },
  {
   "cell_type": "code",
   "execution_count": 52,
   "metadata": {},
   "outputs": [],
   "source": [
    "def matcher(resume_embeddings, job_description_embedding, top_n=10):\n",
    "    scores = calculate_similarity(job_description_embedding, resume_embeddings)\n",
    "\n",
    "    ranked_resumes = rank_resumes(df['Resume'], scores)\n",
    "\n",
    "    top_resumes = get_top_n_resumes(ranked_resumes, top_n)\n",
    "    \n",
    "    return top_resumes"
   ]
  },
  {
   "cell_type": "code",
   "execution_count": 53,
   "metadata": {},
   "outputs": [],
   "source": [
    "job_description_text = \"python developer with knowledge on web applications and problem solving\"\n",
    "job_description_text = preprocess_text(job_description_text)\n",
    "job_description_embedding = generate_embedding(job_description_text)"
   ]
  },
  {
   "cell_type": "code",
   "execution_count": 54,
   "metadata": {},
   "outputs": [
    {
     "data": {
      "text/plain": [
       "[('Education Details \\r\\nJune 2013 to June 2016 Diploma Computer science Pune, Maharashtra Aissms\\r\\nJune 2016 BE pursuing Computer science Pune, Maharashtra Anantrao pawar college of Engineering & Research centre\\r\\nPython Developer \\r\\n\\r\\n\\r\\nSkill Details \\r\\nCompany Details \\r\\ncompany - Cybage Software Pvt. Ltd\\r\\ndescription - I want to work in organisation as a python developer to utilize my knowledge & To gain more knowledge with our organisation.',\n",
       "  0.576438),\n",
       " ('TECHNICAL PROFICIENCIES Platform: Ubuntu/Fedora/Cent OS/Windows Database: MySQL Languages: Python, Tensorflow, Numpy, C, C++ Education Details \\r\\nJanuary 2016 ME Computer Engineering Pune, Maharashtra Savitribai Phule Pune University\\r\\nJanuary 2014 B.E Computer Engineering Pune, Maharashtra Savitribai Phule Pune University\\r\\nJanuary 2010    RYK Science College, Maharashtra state board\\r\\nJanuary 2008    Maharashtra state board\\r\\nPython developer \\r\\n\\r\\nPython Developer\\r\\nSkill Details \\r\\nC++- Exprience - 6 months\\r\\nMYSQL- Exprience - 6 months\\r\\nPYTHON- Exprience - 6 monthsCompany Details \\r\\ncompany - Fresher\\r\\ndescription - Python programming',\n",
       "  0.51842165),\n",
       " ('Areas of Interest Deep Learning, Control System Design, Programming in-Python, Electric Machinery, Web Development, Analytics Technical Activities q Hindustan Aeronautics Limited, Bangalore - For 4 weeks under the guidance of Mr. Satish, Senior Engineer in the hangar of Mirage 2000 fighter aircraft Technical Skills Programming Matlab, Python and Java, LabView, Python WebFrameWork-Django, Flask, LTSPICE-intermediate Languages and and MIPOWER-intermediate, Github (GitBash), Jupyter Notebook, Xampp, MySQL-Basics, Python Software Packages Interpreters-Anaconda, Python2, Python3, Pycharm, Java IDE-Eclipse Operating Systems Windows, Ubuntu, Debian-Kali Linux Education Details \\r\\nJanuary 2019 B.Tech. Electrical and Electronics Engineering  Manipal Institute of Technology\\r\\nJanuary 2015    DEEKSHA CENTER\\r\\nJanuary 2013    Little Flower Public School\\r\\nAugust 2000    Manipal Academy of Higher\\r\\nDATA SCIENCE \\r\\n\\r\\nDATA SCIENCE AND ELECTRICAL ENTHUSIAST\\r\\nSkill Details \\r\\nData Analysis- Exprience - Less than 1 year months\\r\\nexcel- Exprience - Less than 1 year months\\r\\nMachine Learning- Exprience - Less than 1 year months\\r\\nmathematics- Exprience - Less than 1 year months\\r\\nPython- Exprience - Less than 1 year months\\r\\nMatlab- Exprience - Less than 1 year months\\r\\nElectrical Engineering- Exprience - Less than 1 year months\\r\\nSql- Exprience - Less than 1 year monthsCompany Details \\r\\ncompany - THEMATHCOMPANY\\r\\ndescription - I am currently working with a Casino based operator(name not to be disclosed) in Macau.I need to segment the customers who visit their property based on the value the patrons bring into the company.Basically prove that the segmentation can be done in much better way than the current system which they have with proper numbers to back it up.Henceforth they can implement target marketing strategy to attract their customers who add value to the business.',\n",
       "  0.5015432),\n",
       " ('Technical Skills / Responsibilities: â\\x80¢ Hands on Experience with Production and Maintenance of Projects. â\\x80¢ Experience in handling projects in agile methodology. â\\x80¢ Experience in handling projects in SDLC, Involved in each stage of Software Development Life Cycle. â\\x80¢ Responsible to gather requirement (Customer Interaction) and providing Estimate & solution document then as per process FS, TS, Coding, UTP, UTR, PTF, SOW submission to customer. â\\x80¢ Having strong knowledge of Debugging and Testing based on Python and AS/400. â\\x80¢ Worked as Change Controller - Responsible for promoting changes in Development to UAT and LIVE environment through Pivotal Cloud Foundry. â\\x80¢ Have good communication skills, Inter personal skills, hardworking and result oriented as an Individual and in team. Certification and Trainings: â\\x80¢ Completed Internal Python training. â\\x80¢ Completed Internal Python Web Crawling training. â\\x80¢ Completed Internal Python Web Scraping training. â\\x80¢ Completed Internal Python for Data Science training. â\\x80¢ Completed Internal MongoDB training. â\\x80¢ Completed Internal MySQL training. â\\x80¢ Completed Internal PostgreSQL training. â\\x80¢ Completed Internal DJango training. â\\x80¢ Completed Internal Angular 6, HTML, CSS training. â\\x80¢ Completed German A1 level and preparing for A2 from Goethe-Institute. â\\x80¢ Completed Internal Core Java training. â\\x80¢ Completed IBM I series AS\\\\400 Training course at Maples Institute, Pune. â\\x80¢ Complete Internal MOVEX ERP training (Techn: AS400/RPG/RPGLE) â\\x80¢ Completed Internal M3 ERP training (Techn: Java) â\\x80¢ Completed Internal Stream serve training. â\\x80¢ Completed M3 Enterprise Collaborator (MEC) training.Education Details \\r\\n M.Sc. Computer Science Pune, Maharashtra Pune University\\r\\n B.Sc. Computer Science Pune, Maharashtra Pune University\\r\\n H.S.C.  Pune, Maharashtra Pune University\\r\\nPython RESTful API developer \\r\\n\\r\\nPython developer - KPIT Technologies\\r\\nSkill Details \\r\\nFlask- Exprience - Less than 1 year months\\r\\nPython- Exprience - Less than 1 year months\\r\\nRestful- Exprience - Less than 1 year months\\r\\nRest- Exprience - Less than 1 year months\\r\\nNumpy- Exprience - Less than 1 year months\\r\\nAS/400- Exprience - 90 monthsCompany Details \\r\\ncompany - KPIT Technologies\\r\\ndescription - since 6th July 2011 to till date:\\r\\n\\r\\nâ\\x80¢ Currently working as a Python API developer having 2 years of experience in Python- MongoDB/MySQL development/support project.\\r\\nâ\\x80¢ Worked as a M3 Java developer and Stream serve developer of Movex/M3 ERP for 1\\r\\nyear.\\r\\nâ\\x80¢ Worked as a Senior AS400 and Stream serve developer of Movex/M3 ERP for 4 years.\\r\\n\\r\\nTechnical Expertise:\\r\\nâ\\x80¢ Python development:\\r\\nâ\\x80¢ Python - MongoDB\\r\\nâ\\x80¢ Python - MySql\\r\\nâ\\x80¢ Python Cache & Memoization\\r\\nâ\\x80¢ Python GIT\\r\\nâ\\x80¢ Python PWS (Pivotal Web Service - Cloud Foundry)\\r\\nâ\\x80¢ German A1 Level\\r\\n\\r\\nâ\\x80¢ M3/Movex ERP development:\\r\\nâ\\x80¢ M3 Java of Movex/M3 ERP\\r\\nâ\\x80¢ AS400 development of Movex/M3 ERP\\r\\nâ\\x80¢ Stream Server development of Movex/M3 ERP\\r\\nâ\\x80¢ Movex/M3 Standards, RPG/400, CL/400, ILE RPG, ILE CL, DB2/400, QUERY400 and SQL/400, Subfiles, Printer Files, PF ,LF\\r\\nâ\\x80¢ Movex/M3 Flows, Programs & database structure, MI Programs.',\n",
       "  0.4864494),\n",
       " ('â\\x80¢ Operating Systems: Windows â\\x80¢ Others: MS Excel, MS Office, MS Power Point Key Projects Handled Project Title: fruit sorting and disease detection Client: Kranti Dynamics Team Size: 5 Education Details \\r\\nJanuary 2014 B.E. Electronics Mumbai, Maharashtra University of Mumbai\\r\\nPython Developer/analyst \\r\\n\\r\\npython developer and data analyst\\r\\nSkill Details \\r\\npython scripting,programming,developing- Exprience - 12 months\\r\\nfrontend  ,html- Exprience - 12 months\\r\\npython liabrary, numpy,pandas,matplolib,requests,beautiful soap- Exprience - 12 months\\r\\nmysql- Exprience - 12 months\\r\\ndjango- Exprience - 12 months\\r\\nweb scrapping- Exprience - Less than 1 year monthsCompany Details \\r\\ncompany - Ace The Power of 5\\r\\ndescription - The Accountabilities:\\r\\n\\r\\nâ\\x86\\x92 Understanding the functional requirements of the application given by the client.\\r\\n\\r\\nâ\\x86\\x92 Participated in walkthroughs of business requirements, functional requirements and technical design to ensure their testability.\\r\\n\\r\\nâ\\x86\\x92 Responsible for Software Configuration Management of project deliverables.\\r\\n\\r\\nTechnical skill set:\\r\\n\\r\\nâ\\x80¢ Languages: C, C ++, Java, python,python liabray,mysql,django,html\\r\\n\\r\\nâ\\x80¢ Scripting: Python,\\r\\nâ\\x80¢ GUI development: Tk, Java\\r\\ncompany - kranti dyanamics\\r\\ndescription - programming,scripting,developer,web scrapping',\n",
       "  0.46912518),\n",
       " ('KEY SKILLS: Programing languages: C, C++, Python, Apex, Visualforce, Database: Mysql, Framework: Django, Technologies: Salesforce.com (Administration and development), Force.com, Salesforce CRM, Blockchain Website Designing: HTML5, CSS3, Project: DIPLOMA: Project Name: VANET-virtual Ad - Hoc Network Technology Used: Java. About Project: A system has been made for Video-streaming. In this project, we give the Real, time video-steaming on two or more devices using VANET AP DEGREE: Project Name: Drowsiness Detection System Technology Used: python, Raspberry pi. About project: A system has been made for Driver safety when parson driving car. It detects Drowsy condition of a parson then system brings the alarm.Education Details \\r\\nJanuary 2017 B.E Computer Engineering Pune, Maharashtra Sanghavi College of Engineering\\r\\nJanuary 2014 Diploma Computer Technology Nashik, Maharashtra Shree Mahavir Polytechnic\\r\\nJanuary 2010 S.S.C.  Nashik, Maharashtra C.D.O.Meri High school\\r\\nBlockChain Developer \\r\\n\\r\\n\\r\\nSkill Details \\r\\nAP- Exprience - 6 months\\r\\nAPEX- Exprience - 6 months\\r\\nC++- Exprience - 6 months\\r\\nCRM- Exprience - 6 months\\r\\nCUSTOMER RELATIONSHIP MANAGEMENT- Exprience - 6 monthsCompany Details \\r\\ncompany - \\r\\ndescription - Job Description: Managing the mining firm,\\r\\nCreating the smart contract on Waves and Ethereum both\\r\\nPlatform',\n",
       "  0.4453016),\n",
       " ('Personal Skills â\\x9e¢ Ability to quickly grasp technical aspects and willingness to learn â\\x9e¢ High energy levels & Result oriented. Education Details \\r\\nJanuary 2018 Master of Engineering Computer Technology & Application Bhopal, Madhya Pradesh Truba Institute of Engineering & Information Technology\\r\\nJanuary 2010 B.E. computer science Bhopal, Madhya Pradesh RKDF Institute of Science and Technology College of Engineering\\r\\nJanuary 2006 Polytechnic Information Technology Vidisha, Madhya Pradesh SATI Engineering College in Vidisha\\r\\nJanuary 2003 M.tech Thesis Detail  BMCH School in Ganj basoda\\r\\nData science \\r\\n\\r\\nI have six month experience in Data Science. Key Skills: - Experience in Machine Learning, Deep Leaning, NLP, Python, SQL, Web Scraping Good knowledge in computer subjects and ability to update\\r\\nSkill Details \\r\\nExperience in Machine Learning, Deep Learning, NLP, Python, SQL, Web Crawling, HTML,CSS.- Exprience - Less than 1 year monthsCompany Details \\r\\ncompany - RNT.AI Technology Solution\\r\\ndescription - Text classification using Machine learning Algorithms with python.\\r\\nPractical knowledge of Deep learning algorithms such as Â\\xa0Recurrent Neural Networks(RNN).\\r\\nDevelop custom data models and algorithms to apply to dataset\\r\\nExperience with Python packages like Pandas, Scikit-learn, Tensor Flow, Numpy, Matplotliv, NLTK.\\r\\nComfort with SQL, Â\\xa0MYSQL\\r\\nSentiment analysis.\\r\\nÂ\\xa0Apply leave Dataset using classification technique like Tf--idf , LSA with cosine similarity using Machine learning Algorithms.\\r\\nWeb crawling using Selenium web driver and Beautiful Soup with python.\\r\\ncompany - Life Insurance Corporation of India Bhopal\\r\\ndescription - Ã¼Â\\xa0Explaining policy features and the benefits\\r\\nÃ¼ Updated knowledge of life insurance products and shared with customers',\n",
       "  0.44014496),\n",
       " ('Skills â\\x80¢ Python â\\x80¢ Tableau â\\x80¢ Data Visualization â\\x80¢ R Studio â\\x80¢ Machine Learning â\\x80¢ Statistics IABAC Certified Data Scientist with versatile experience over 1+ years in managing business, data science consulting and leading innovation projects, bringing business ideas to working real world solutions. Being a strong advocator of augmented era, where human capabilities are enhanced by machines, Fahed is passionate about bringing business concepts in area of machine learning, AI, robotics etc., to real life solutions.Education Details \\r\\nJanuary 2017 B. Tech Computer Science & Engineering Mohali, Punjab Indo Global College of Engineering\\r\\nData Science Consultant \\r\\n\\r\\nData Science Consultant - Datamites\\r\\nSkill Details \\r\\nMACHINE LEARNING- Exprience - 13 months\\r\\nPYTHON- Exprience - 24 months\\r\\nSOLUTIONS- Exprience - 24 months\\r\\nDATA SCIENCE- Exprience - 24 months\\r\\nDATA VISUALIZATION- Exprience - 24 months\\r\\nTableau- Exprience - 24 monthsCompany Details \\r\\ncompany - Datamites\\r\\ndescription - â\\x80¢ Analyzed and processed complex data sets using advanced querying, visualization and analytics tools.\\r\\nâ\\x80¢ Responsible for loading, extracting and validation of client data.\\r\\nâ\\x80¢ Worked on manipulating, cleaning & processing data using python.\\r\\nâ\\x80¢ Used Tableau for data visualization.\\r\\ncompany - Heretic Solutions Pvt Ltd\\r\\ndescription - â\\x80¢ Worked closely with business to identify issues and used data to propose solutions for effective decision making.\\r\\nâ\\x80¢ Manipulating, cleansing & processing data using Python, Excel and R.\\r\\nâ\\x80¢ Analyzed raw data, drawing conclusions & developing recommendations.\\r\\nâ\\x80¢ Used machine learning tools and statistical techniques to produce solutions to problems.',\n",
       "  0.42118877),\n",
       " (\"Technical Skills: Languages Python Python Framework Django, DRF Databases MySQL, Oracle, Sqlite, MongoDB Web Technologies CSS, HTML, RESTful Web Services REST Methodologies Agile, Scrum Version Control Github Project Managent Tool Jira Operating Systems Window, Unix Education Details \\r\\n BE   Dr.BAMU,Aurangabad\\r\\nPython Developer \\r\\n\\r\\nPython Developer - Arsys Inovics pvt ltd\\r\\nSkill Details \\r\\nCSS- Exprience - 31 months\\r\\nDJANGO- Exprience - 31 months\\r\\nHTML- Exprience - 31 months\\r\\nMYSQL- Exprience - 31 months\\r\\nPYTHON- Exprience - 31 months\\r\\nweb services- Exprience - Less than 1 year months\\r\\nLogger- Exprience - Less than 1 year months\\r\\nMongodb- Exprience - Less than 1 year months\\r\\njson- Exprience - Less than 1 year months\\r\\nUnix- Exprience - Less than 1 year months\\r\\nRest- Exprience - Less than 1 year months\\r\\nSqlit3- Exprience - Less than 1 year monthsCompany Details \\r\\ncompany - Arsys inovics pvt ltd\\r\\ndescription - Project - F-MAS (Frequency Monitoring and Analysis Systems - (F-MAS))\\r\\n\\r\\nF-MAS is a project for managing network inventory, network communication, fault management & network traffic analysis. The telecommunications service providers, are used to support a range of telecommunication services. The Operations Support Systems (OSS) collectively provides support for various elements used in Public Switched Telephone Networks, for example processing an order may require information on the services the customer already has, the network they are using, and currently available resources.\\r\\n\\r\\nResponsibilities:\\r\\nâ\\x80¢ Participated in entire lifecycle of the projects including Design, Development, and Deployment, Testing and Implementation and support.\\r\\nâ\\x80¢ Developed views and templates with Python and Django's view controller and templating language to created user-friendly website interface.\\r\\nâ\\x80¢ Implemented navigation rules for the application and page outcomes, written controllers using annotations.\\r\\nâ\\x80¢ Created this project using Django, Django REST API, MYSQL, PyMYSQL, Python, HTML5, CSS3.\\r\\nâ\\x80¢ Created CRUD methods (get, post, put, delete) to make requests to the API server and tested Restful API\\r\\nusing Postman.\\r\\nâ\\x80¢ Created Unit test cases for unit testing.\\r\\nâ\\x80¢ Worked with JSON based REST Web services\\r\\nâ\\x80¢ Wrote Python routines to log into the websites and fetch data for selected options.\\r\\nâ\\x80¢ Used Python modules such as requests, urllib for web crawling.\\r\\nâ\\x80¢ Added the navigations and paginations and filtering columns and adding and removing the desired columns for view.\\r\\nâ\\x80¢ Created a Git repository and added the project to GitHub.\\r\\nâ\\x80¢ Utilized Agile process and JIRA issue management to track sprint cycles.\\r\\nâ\\x80¢ Worked in an agile development environment.\\r\\n\\r\\nEnvironment: Python, Django, MySQL, HTML, CSS, SQLAlchemy, JSON, agile, Web Services (REST), Urllib.\\r\\ncompany - Arsys\\r\\ndescription - 1. Working as back end as well as front end developer\\r\\n2. working on rest and restfull api's.\\r\\n3. Design and develop a project in Agile scrum.\\r\\n4. Git hub for code deployment\\r\\n5. Working on MVT .\",\n",
       "  0.41301772),\n",
       " (\"SOFTWARE SKILLS: â\\x80¢ General Computer Proficiency â\\x80¢ Program Langages known C, C+, Java, Web Programming â\\x80¢ Tools & Software know MATLAB. DBMS KEY STRENGTHS: â\\x80¢ Posse's Good communication and analytic skills. â\\x80¢ Positive thinking. Sincere, Hard work, Honesty, Responsibility. â\\x80¢ Enthusiastic to learn new skills & take up new tasks. â\\x80¢ Self - motivated. â\\x80¢ Ready to accept challenges Education Details \\r\\nJanuary 2014 to January 2017 BE in computer science and engineering computer science engineering  Adichunchanagiri institute of technology chikmagalur\\r\\nHR \\r\\n\\r\\n\\r\\nSkill Details \\r\\nDATABASE MANAGEMENT SYSTEM- Exprience - 6 months\\r\\nDBMS- Exprience - 6 months\\r\\nJAVA- Exprience - 6 months\\r\\nMATLAB- Exprience - 6 monthsCompany Details \\r\\ncompany - Yours Truly\\r\\ndescription - Jayashree H .K)\",\n",
       "  0.40941796)]"
      ]
     },
     "execution_count": 54,
     "metadata": {},
     "output_type": "execute_result"
    }
   ],
   "source": [
    "matcher(resume_embeddings, job_description_embedding)"
   ]
  },
  {
   "cell_type": "code",
   "execution_count": null,
   "metadata": {},
   "outputs": [],
   "source": []
  }
 ],
 "metadata": {
  "kernelspec": {
   "display_name": "venv",
   "language": "python",
   "name": "python3"
  },
  "language_info": {
   "codemirror_mode": {
    "name": "ipython",
    "version": 3
   },
   "file_extension": ".py",
   "mimetype": "text/x-python",
   "name": "python",
   "nbconvert_exporter": "python",
   "pygments_lexer": "ipython3",
   "version": "3.12.4"
  }
 },
 "nbformat": 4,
 "nbformat_minor": 2
}
